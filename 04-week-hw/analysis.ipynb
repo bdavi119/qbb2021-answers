{
 "cells": [
  {
   "cell_type": "markdown",
   "metadata": {},
   "source": [
    "# Week 4 HW - Analysis of Methylation\n",
    "____________________________________"
   ]
  },
  {
   "cell_type": "markdown",
   "metadata": {},
   "source": [
    "## Load packages"
   ]
  },
  {
   "cell_type": "code",
   "execution_count": 1,
   "metadata": {},
   "outputs": [],
   "source": [
    "import pandas as pd\n",
    "import numpy as np\n",
    "from scipy.stats import ttest_ind as ttest\n",
    "import matplotlib.pyplot as plt\n",
    "import seaborn as sns\n",
    "\n",
    "sns.set()"
   ]
  },
  {
   "cell_type": "markdown",
   "metadata": {},
   "source": [
    "## Load data\n",
    "\n",
    "Start by loading the methylation score data seperately for E4.0 and E5.5."
   ]
  },
  {
   "cell_type": "code",
   "execution_count": 2,
   "metadata": {},
   "outputs": [
    {
     "data": {
      "text/html": [
       "<div>\n",
       "<style scoped>\n",
       "    .dataframe tbody tr th:only-of-type {\n",
       "        vertical-align: middle;\n",
       "    }\n",
       "\n",
       "    .dataframe tbody tr th {\n",
       "        vertical-align: top;\n",
       "    }\n",
       "\n",
       "    .dataframe thead th {\n",
       "        text-align: right;\n",
       "    }\n",
       "</style>\n",
       "<table border=\"1\" class=\"dataframe\">\n",
       "  <thead>\n",
       "    <tr style=\"text-align: right;\">\n",
       "      <th></th>\n",
       "      <th>0</th>\n",
       "      <th>1</th>\n",
       "      <th>2</th>\n",
       "      <th>3</th>\n",
       "      <th>4</th>\n",
       "      <th>5</th>\n",
       "      <th>6</th>\n",
       "    </tr>\n",
       "  </thead>\n",
       "  <tbody>\n",
       "    <tr>\n",
       "      <th>0</th>\n",
       "      <td>chr6</td>\n",
       "      <td>50108240</td>\n",
       "      <td>50110240</td>\n",
       "      <td>Mpp6</td>\n",
       "      <td>0</td>\n",
       "      <td>+</td>\n",
       "      <td>0</td>\n",
       "    </tr>\n",
       "    <tr>\n",
       "      <th>1</th>\n",
       "      <td>chr6</td>\n",
       "      <td>50261769</td>\n",
       "      <td>50263769</td>\n",
       "      <td>Dfna5</td>\n",
       "      <td>0</td>\n",
       "      <td>-</td>\n",
       "      <td>0</td>\n",
       "    </tr>\n",
       "    <tr>\n",
       "      <th>2</th>\n",
       "      <td>chr6</td>\n",
       "      <td>50382837</td>\n",
       "      <td>50384837</td>\n",
       "      <td>Osbpl3</td>\n",
       "      <td>0</td>\n",
       "      <td>-</td>\n",
       "      <td>0</td>\n",
       "    </tr>\n",
       "    <tr>\n",
       "      <th>3</th>\n",
       "      <td>chr6</td>\n",
       "      <td>50566474</td>\n",
       "      <td>50568474</td>\n",
       "      <td>Cycs</td>\n",
       "      <td>0</td>\n",
       "      <td>-</td>\n",
       "      <td>133.3333333</td>\n",
       "    </tr>\n",
       "    <tr>\n",
       "      <th>4</th>\n",
       "      <td>chr6</td>\n",
       "      <td>50570397</td>\n",
       "      <td>50572397</td>\n",
       "      <td>Mir6371</td>\n",
       "      <td>0</td>\n",
       "      <td>+</td>\n",
       "      <td>700</td>\n",
       "    </tr>\n",
       "    <tr>\n",
       "      <th>...</th>\n",
       "      <td>...</td>\n",
       "      <td>...</td>\n",
       "      <td>...</td>\n",
       "      <td>...</td>\n",
       "      <td>...</td>\n",
       "      <td>...</td>\n",
       "      <td>...</td>\n",
       "    </tr>\n",
       "    <tr>\n",
       "      <th>102</th>\n",
       "      <td>chr6</td>\n",
       "      <td>58831699</td>\n",
       "      <td>58833699</td>\n",
       "      <td>Herc3</td>\n",
       "      <td>0</td>\n",
       "      <td>+</td>\n",
       "      <td>0</td>\n",
       "    </tr>\n",
       "    <tr>\n",
       "      <th>103</th>\n",
       "      <td>chr6</td>\n",
       "      <td>58907126</td>\n",
       "      <td>58909126</td>\n",
       "      <td>Nap1l5</td>\n",
       "      <td>0</td>\n",
       "      <td>-</td>\n",
       "      <td>866.6666667</td>\n",
       "    </tr>\n",
       "    <tr>\n",
       "      <th>104</th>\n",
       "      <td>chr6</td>\n",
       "      <td>59024502</td>\n",
       "      <td>59026502</td>\n",
       "      <td>Fam13a</td>\n",
       "      <td>0</td>\n",
       "      <td>-</td>\n",
       "      <td>0</td>\n",
       "    </tr>\n",
       "    <tr>\n",
       "      <th>105</th>\n",
       "      <td>chr6</td>\n",
       "      <td>59206869</td>\n",
       "      <td>59208869</td>\n",
       "      <td>Tigd2</td>\n",
       "      <td>0</td>\n",
       "      <td>+</td>\n",
       "      <td>100</td>\n",
       "    </tr>\n",
       "    <tr>\n",
       "      <th>106</th>\n",
       "      <td>chr6</td>\n",
       "      <td>59426290</td>\n",
       "      <td>59428290</td>\n",
       "      <td>Gprin3</td>\n",
       "      <td>0</td>\n",
       "      <td>-</td>\n",
       "      <td>0</td>\n",
       "    </tr>\n",
       "  </tbody>\n",
       "</table>\n",
       "<p>107 rows × 7 columns</p>\n",
       "</div>"
      ],
      "text/plain": [
       "        0         1         2        3  4  5            6\n",
       "0    chr6  50108240  50110240     Mpp6  0  +            0\n",
       "1    chr6  50261769  50263769    Dfna5  0  -            0\n",
       "2    chr6  50382837  50384837   Osbpl3  0  -            0\n",
       "3    chr6  50566474  50568474     Cycs  0  -  133.3333333\n",
       "4    chr6  50570397  50572397  Mir6371  0  +          700\n",
       "..    ...       ...       ...      ... .. ..          ...\n",
       "102  chr6  58831699  58833699    Herc3  0  +            0\n",
       "103  chr6  58907126  58909126   Nap1l5  0  -  866.6666667\n",
       "104  chr6  59024502  59026502   Fam13a  0  -            0\n",
       "105  chr6  59206869  59208869    Tigd2  0  +          100\n",
       "106  chr6  59426290  59428290   Gprin3  0  -            0\n",
       "\n",
       "[107 rows x 7 columns]"
      ]
     },
     "execution_count": 2,
     "metadata": {},
     "output_type": "execute_result"
    }
   ],
   "source": [
    "E4_0 = pd.read_csv('mapped/mapped926.tsv', sep='\\t', header=None)\n",
    "E4_0"
   ]
  },
  {
   "cell_type": "code",
   "execution_count": 3,
   "metadata": {},
   "outputs": [
    {
     "data": {
      "text/html": [
       "<div>\n",
       "<style scoped>\n",
       "    .dataframe tbody tr th:only-of-type {\n",
       "        vertical-align: middle;\n",
       "    }\n",
       "\n",
       "    .dataframe tbody tr th {\n",
       "        vertical-align: top;\n",
       "    }\n",
       "\n",
       "    .dataframe thead th {\n",
       "        text-align: right;\n",
       "    }\n",
       "</style>\n",
       "<table border=\"1\" class=\"dataframe\">\n",
       "  <thead>\n",
       "    <tr style=\"text-align: right;\">\n",
       "      <th></th>\n",
       "      <th>0</th>\n",
       "      <th>1</th>\n",
       "      <th>2</th>\n",
       "      <th>3</th>\n",
       "      <th>4</th>\n",
       "      <th>5</th>\n",
       "      <th>6</th>\n",
       "    </tr>\n",
       "  </thead>\n",
       "  <tbody>\n",
       "    <tr>\n",
       "      <th>0</th>\n",
       "      <td>chr6</td>\n",
       "      <td>50108240</td>\n",
       "      <td>50110240</td>\n",
       "      <td>Mpp6</td>\n",
       "      <td>0</td>\n",
       "      <td>+</td>\n",
       "      <td>100.000000</td>\n",
       "    </tr>\n",
       "    <tr>\n",
       "      <th>1</th>\n",
       "      <td>chr6</td>\n",
       "      <td>50261769</td>\n",
       "      <td>50263769</td>\n",
       "      <td>Dfna5</td>\n",
       "      <td>0</td>\n",
       "      <td>-</td>\n",
       "      <td>950.000000</td>\n",
       "    </tr>\n",
       "    <tr>\n",
       "      <th>2</th>\n",
       "      <td>chr6</td>\n",
       "      <td>50382837</td>\n",
       "      <td>50384837</td>\n",
       "      <td>Osbpl3</td>\n",
       "      <td>0</td>\n",
       "      <td>-</td>\n",
       "      <td>1650.000000</td>\n",
       "    </tr>\n",
       "    <tr>\n",
       "      <th>3</th>\n",
       "      <td>chr6</td>\n",
       "      <td>50566474</td>\n",
       "      <td>50568474</td>\n",
       "      <td>Cycs</td>\n",
       "      <td>0</td>\n",
       "      <td>-</td>\n",
       "      <td>650.000000</td>\n",
       "    </tr>\n",
       "    <tr>\n",
       "      <th>4</th>\n",
       "      <td>chr6</td>\n",
       "      <td>50570397</td>\n",
       "      <td>50572397</td>\n",
       "      <td>Mir6371</td>\n",
       "      <td>0</td>\n",
       "      <td>+</td>\n",
       "      <td>1916.666667</td>\n",
       "    </tr>\n",
       "    <tr>\n",
       "      <th>...</th>\n",
       "      <td>...</td>\n",
       "      <td>...</td>\n",
       "      <td>...</td>\n",
       "      <td>...</td>\n",
       "      <td>...</td>\n",
       "      <td>...</td>\n",
       "      <td>...</td>\n",
       "    </tr>\n",
       "    <tr>\n",
       "      <th>102</th>\n",
       "      <td>chr6</td>\n",
       "      <td>58831699</td>\n",
       "      <td>58833699</td>\n",
       "      <td>Herc3</td>\n",
       "      <td>0</td>\n",
       "      <td>+</td>\n",
       "      <td>850.000000</td>\n",
       "    </tr>\n",
       "    <tr>\n",
       "      <th>103</th>\n",
       "      <td>chr6</td>\n",
       "      <td>58907126</td>\n",
       "      <td>58909126</td>\n",
       "      <td>Nap1l5</td>\n",
       "      <td>0</td>\n",
       "      <td>-</td>\n",
       "      <td>800.000000</td>\n",
       "    </tr>\n",
       "    <tr>\n",
       "      <th>104</th>\n",
       "      <td>chr6</td>\n",
       "      <td>59024502</td>\n",
       "      <td>59026502</td>\n",
       "      <td>Fam13a</td>\n",
       "      <td>0</td>\n",
       "      <td>-</td>\n",
       "      <td>750.000000</td>\n",
       "    </tr>\n",
       "    <tr>\n",
       "      <th>105</th>\n",
       "      <td>chr6</td>\n",
       "      <td>59206869</td>\n",
       "      <td>59208869</td>\n",
       "      <td>Tigd2</td>\n",
       "      <td>0</td>\n",
       "      <td>+</td>\n",
       "      <td>950.000000</td>\n",
       "    </tr>\n",
       "    <tr>\n",
       "      <th>106</th>\n",
       "      <td>chr6</td>\n",
       "      <td>59426290</td>\n",
       "      <td>59428290</td>\n",
       "      <td>Gprin3</td>\n",
       "      <td>0</td>\n",
       "      <td>-</td>\n",
       "      <td>900.000000</td>\n",
       "    </tr>\n",
       "  </tbody>\n",
       "</table>\n",
       "<p>107 rows × 7 columns</p>\n",
       "</div>"
      ],
      "text/plain": [
       "        0         1         2        3  4  5            6\n",
       "0    chr6  50108240  50110240     Mpp6  0  +   100.000000\n",
       "1    chr6  50261769  50263769    Dfna5  0  -   950.000000\n",
       "2    chr6  50382837  50384837   Osbpl3  0  -  1650.000000\n",
       "3    chr6  50566474  50568474     Cycs  0  -   650.000000\n",
       "4    chr6  50570397  50572397  Mir6371  0  +  1916.666667\n",
       "..    ...       ...       ...      ... .. ..          ...\n",
       "102  chr6  58831699  58833699    Herc3  0  +   850.000000\n",
       "103  chr6  58907126  58909126   Nap1l5  0  -   800.000000\n",
       "104  chr6  59024502  59026502   Fam13a  0  -   750.000000\n",
       "105  chr6  59206869  59208869    Tigd2  0  +   950.000000\n",
       "106  chr6  59426290  59428290   Gprin3  0  -   900.000000\n",
       "\n",
       "[107 rows x 7 columns]"
      ]
     },
     "execution_count": 3,
     "metadata": {},
     "output_type": "execute_result"
    }
   ],
   "source": [
    "E5_5 = pd.read_csv('mapped/mapped929.tsv', sep='\\t', header=None)\n",
    "E5_5"
   ]
  },
  {
   "cell_type": "markdown",
   "metadata": {},
   "source": [
    "Then pare down to just the methylation counts and whether it's for a hox gene or not. This is all the information we need for our analysis."
   ]
  },
  {
   "cell_type": "code",
   "execution_count": 4,
   "metadata": {},
   "outputs": [
    {
     "data": {
      "text/html": [
       "<div>\n",
       "<style scoped>\n",
       "    .dataframe tbody tr th:only-of-type {\n",
       "        vertical-align: middle;\n",
       "    }\n",
       "\n",
       "    .dataframe tbody tr th {\n",
       "        vertical-align: top;\n",
       "    }\n",
       "\n",
       "    .dataframe thead th {\n",
       "        text-align: right;\n",
       "    }\n",
       "</style>\n",
       "<table border=\"1\" class=\"dataframe\">\n",
       "  <thead>\n",
       "    <tr style=\"text-align: right;\">\n",
       "      <th></th>\n",
       "      <th>E4</th>\n",
       "      <th>E5</th>\n",
       "      <th>Hox?</th>\n",
       "    </tr>\n",
       "  </thead>\n",
       "  <tbody>\n",
       "    <tr>\n",
       "      <th>0</th>\n",
       "      <td>0.000000</td>\n",
       "      <td>100.000000</td>\n",
       "      <td>False</td>\n",
       "    </tr>\n",
       "    <tr>\n",
       "      <th>1</th>\n",
       "      <td>0.000000</td>\n",
       "      <td>950.000000</td>\n",
       "      <td>False</td>\n",
       "    </tr>\n",
       "    <tr>\n",
       "      <th>2</th>\n",
       "      <td>0.000000</td>\n",
       "      <td>1650.000000</td>\n",
       "      <td>False</td>\n",
       "    </tr>\n",
       "    <tr>\n",
       "      <th>3</th>\n",
       "      <td>133.333333</td>\n",
       "      <td>650.000000</td>\n",
       "      <td>False</td>\n",
       "    </tr>\n",
       "    <tr>\n",
       "      <th>4</th>\n",
       "      <td>700.000000</td>\n",
       "      <td>1916.666667</td>\n",
       "      <td>False</td>\n",
       "    </tr>\n",
       "    <tr>\n",
       "      <th>...</th>\n",
       "      <td>...</td>\n",
       "      <td>...</td>\n",
       "      <td>...</td>\n",
       "    </tr>\n",
       "    <tr>\n",
       "      <th>102</th>\n",
       "      <td>0.000000</td>\n",
       "      <td>850.000000</td>\n",
       "      <td>False</td>\n",
       "    </tr>\n",
       "    <tr>\n",
       "      <th>103</th>\n",
       "      <td>866.666667</td>\n",
       "      <td>800.000000</td>\n",
       "      <td>False</td>\n",
       "    </tr>\n",
       "    <tr>\n",
       "      <th>104</th>\n",
       "      <td>0.000000</td>\n",
       "      <td>750.000000</td>\n",
       "      <td>False</td>\n",
       "    </tr>\n",
       "    <tr>\n",
       "      <th>105</th>\n",
       "      <td>100.000000</td>\n",
       "      <td>950.000000</td>\n",
       "      <td>False</td>\n",
       "    </tr>\n",
       "    <tr>\n",
       "      <th>106</th>\n",
       "      <td>0.000000</td>\n",
       "      <td>900.000000</td>\n",
       "      <td>False</td>\n",
       "    </tr>\n",
       "  </tbody>\n",
       "</table>\n",
       "<p>106 rows × 3 columns</p>\n",
       "</div>"
      ],
      "text/plain": [
       "             E4           E5   Hox?\n",
       "0      0.000000   100.000000  False\n",
       "1      0.000000   950.000000  False\n",
       "2      0.000000  1650.000000  False\n",
       "3    133.333333   650.000000  False\n",
       "4    700.000000  1916.666667  False\n",
       "..          ...          ...    ...\n",
       "102    0.000000   850.000000  False\n",
       "103  866.666667   800.000000  False\n",
       "104    0.000000   750.000000  False\n",
       "105  100.000000   950.000000  False\n",
       "106    0.000000   900.000000  False\n",
       "\n",
       "[106 rows x 3 columns]"
      ]
     },
     "execution_count": 4,
     "metadata": {},
     "output_type": "execute_result"
    }
   ],
   "source": [
    "df = pd.DataFrame()\n",
    "df['E4'] = E4_0[6]\n",
    "df['E5'] = E5_5[6]\n",
    "\n",
    "# I am censoring entries in which there was no methylation call\n",
    "# for one of the cell types\n",
    "df = df[(df['E4'] != '.') & (df['E5'] != '.') & (df['E4'])]\n",
    "df = df.astype(float)\n",
    "\n",
    "df['Hox?'] = E4_0[3].str.startswith('Hox')\n",
    "\n",
    "df"
   ]
  },
  {
   "cell_type": "markdown",
   "metadata": {},
   "source": [
    "## Histograms"
   ]
  },
  {
   "cell_type": "code",
   "execution_count": 5,
   "metadata": {},
   "outputs": [
    {
     "data": {
      "image/png": "[encoded data removed]",
      "text/plain": [
       "<Figure size 432x288 with 1 Axes>"
      ]
     },
     "metadata": {},
     "output_type": "display_data"
    }
   ],
   "source": [
    "# E4.0 histogram\n",
    "fig, ax = plt.subplots()\n",
    "ax.hist(df['E4'])\n",
    "ax.set_xlim((0, 3000))\n",
    "ax.set_title('Methylation scores of promoters in E4.0 cells')\n",
    "ax.set_xlabel('Methylation score')\n",
    "ax.set_ylabel('Number of promoters')\n",
    "plt.show()"
   ]
  },
  {
   "cell_type": "code",
   "execution_count": 6,
   "metadata": {},
   "outputs": [
    {
     "data": {
      "image/png": "[encoded data removed]",
      "text/plain": [
       "<Figure size 432x288 with 1 Axes>"
      ]
     },
     "metadata": {},
     "output_type": "display_data"
    }
   ],
   "source": [
    "# E5.5 histogram\n",
    "fig, ax = plt.subplots()\n",
    "ax.hist(df['E5'], bins=20)\n",
    "ax.set_xlim((0, 3000))\n",
    "ax.set_title('Methylation scores of promoters in E5.5 cells')\n",
    "ax.set_xlabel('Methylation score')\n",
    "ax.set_ylabel('Number of promoters')\n",
    "plt.show()"
   ]
  },
  {
   "cell_type": "markdown",
   "metadata": {},
   "source": [
    "## Scatterplot"
   ]
  },
  {
   "cell_type": "code",
   "execution_count": 7,
   "metadata": {},
   "outputs": [
    {
     "data": {
      "image/png": "[encoded data removed]",
      "text/plain": [
       "<Figure size 432x288 with 1 Axes>"
      ]
     },
     "metadata": {},
     "output_type": "display_data"
    }
   ],
   "source": [
    "sns.scatterplot(x='E4', y='E5', data=df, hue='Hox?')\n",
    "# 'hue' parameter colors points from Hox genes differently\n",
    "\n",
    "plt.title('Methylation of Promoters in E4.0 vs E5.5 Cells')\n",
    "plt.xlabel('Methylation score of E4.0 cell promoters')\n",
    "plt.ylabel('Methylation score of E5.5 cell promoters')\n",
    "\n",
    "plt.xlim((-75,2000))\n",
    "\n",
    "plt.show()"
   ]
  },
  {
   "cell_type": "markdown",
   "metadata": {},
   "source": [
    "## Statistical tests"
   ]
  },
  {
   "cell_type": "code",
   "execution_count": 8,
   "metadata": {},
   "outputs": [
    {
     "name": "stdout",
     "output_type": "stream",
     "text": [
      "       E4          E5  Hox?\n",
      "15  100.0    0.000000  True\n",
      "16    0.0    0.000000  True\n",
      "17  100.0    0.000000  True\n",
      "18    0.0  750.000000  True\n",
      "19  450.0  450.000000  True\n",
      "20  100.0  283.333333  True\n",
      "21  100.0  500.000000  True\n",
      "22  500.0  183.333333  True\n",
      "24  310.0  266.666667  True\n",
      "25  400.0    0.000000  True\n",
      "27    0.0  616.666667  True\n",
      "28  200.0    0.000000  True\n",
      "29    0.0  100.000000  True\n",
      "31  400.0  100.000000  True\n",
      "             E4           E5   Hox?\n",
      "0      0.000000   100.000000  False\n",
      "1      0.000000   950.000000  False\n",
      "2      0.000000  1650.000000  False\n",
      "3    133.333333   650.000000  False\n",
      "4    700.000000  1916.666667  False\n",
      "..          ...          ...    ...\n",
      "102    0.000000   850.000000  False\n",
      "103  866.666667   800.000000  False\n",
      "104    0.000000   750.000000  False\n",
      "105  100.000000   950.000000  False\n",
      "106    0.000000   900.000000  False\n",
      "\n",
      "[92 rows x 3 columns]\n"
     ]
    }
   ],
   "source": [
    "# Create two DataFrames, one with just Hox genes and one with\n",
    "# all genes except Hox genes\n",
    "df_hox = df[df['Hox?']]\n",
    "df_other = df[~df['Hox?']]\n",
    "print(df_hox)\n",
    "print(df_other)"
   ]
  },
  {
   "cell_type": "code",
   "execution_count": 9,
   "metadata": {},
   "outputs": [
    {
     "data": {
      "text/plain": [
       "Ttest_indResult(statistic=1.2808387127416196, pvalue=0.20309927470974873)"
      ]
     },
     "execution_count": 9,
     "metadata": {},
     "output_type": "execute_result"
    }
   ],
   "source": [
    "# E4.0 t-test\n",
    "ttest(df_hox['E4'], df_other['E4'])"
   ]
  },
  {
   "cell_type": "code",
   "execution_count": 10,
   "metadata": {},
   "outputs": [
    {
     "data": {
      "text/plain": [
       "Ttest_indResult(statistic=-2.904151606045875, pvalue=0.004498179617860368)"
      ]
     },
     "execution_count": 10,
     "metadata": {},
     "output_type": "execute_result"
    }
   ],
   "source": [
    "# E5.5 t-test\n",
    "ttest(df_hox['E5'], df_other['E5'])"
   ]
  },
  {
   "cell_type": "markdown",
   "metadata": {},
   "source": [
    "### Takeaway from t-tests:\n",
    "\n",
    "E4.0 p-value: 0.203099\n",
    "E5.5 p-value: 0.004498\n",
    "\n",
    "These tests indicate there is a significance difference between the methylation of Hox genes vs other genes in E5.5 cells but not in E4.0 cells."
   ]
  }
 ],
 "metadata": {
  "kernelspec": {
   "display_name": "Python 3",
   "language": "python",
   "name": "python3"
  },
  "language_info": {
   "codemirror_mode": {
    "name": "ipython",
    "version": 3
   },
   "file_extension": ".py",
   "mimetype": "text/x-python",
   "name": "python",
   "nbconvert_exporter": "python",
   "pygments_lexer": "ipython3",
   "version": "3.7.1"
  }
 },
 "nbformat": 4,
 "nbformat_minor": 4
}
