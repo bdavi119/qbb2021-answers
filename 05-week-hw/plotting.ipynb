{
 "cells": [
  {
   "cell_type": "markdown",
   "metadata": {},
   "source": [
    "# Load packages"
   ]
  },
  {
   "cell_type": "code",
   "execution_count": 1,
   "metadata": {},
   "outputs": [],
   "source": [
    "import pandas as pd\n",
    "import matplotlib.pyplot as plt\n",
    "import seaborn as sns"
   ]
  },
  {
   "cell_type": "markdown",
   "metadata": {},
   "source": [
    "# Get data\n",
    "Get individual data for G1E and ER4 cell types and then merge for plotting."
   ]
  },
  {
   "cell_type": "code",
   "execution_count": 2,
   "metadata": {},
   "outputs": [
    {
     "data": {
      "text/html": [
       "<div>\n",
       "<style scoped>\n",
       "    .dataframe tbody tr th:only-of-type {\n",
       "        vertical-align: middle;\n",
       "    }\n",
       "\n",
       "    .dataframe tbody tr th {\n",
       "        vertical-align: top;\n",
       "    }\n",
       "\n",
       "    .dataframe thead th {\n",
       "        text-align: right;\n",
       "    }\n",
       "</style>\n",
       "<table border=\"1\" class=\"dataframe\">\n",
       "  <thead>\n",
       "    <tr style=\"text-align: right;\">\n",
       "      <th></th>\n",
       "      <th>Type</th>\n",
       "      <th>Count</th>\n",
       "      <th>Cell</th>\n",
       "    </tr>\n",
       "  </thead>\n",
       "  <tbody>\n",
       "    <tr>\n",
       "      <th>0</th>\n",
       "      <td>exon</td>\n",
       "      <td>58</td>\n",
       "      <td>G1E</td>\n",
       "    </tr>\n",
       "    <tr>\n",
       "      <th>1</th>\n",
       "      <td>intron</td>\n",
       "      <td>225</td>\n",
       "      <td>G1E</td>\n",
       "    </tr>\n",
       "    <tr>\n",
       "      <th>2</th>\n",
       "      <td>promoter</td>\n",
       "      <td>41</td>\n",
       "      <td>G1E</td>\n",
       "    </tr>\n",
       "  </tbody>\n",
       "</table>\n",
       "</div>"
      ],
      "text/plain": [
       "       Type  Count Cell\n",
       "0      exon     58  G1E\n",
       "1    intron    225  G1E\n",
       "2  promoter     41  G1E"
      ]
     },
     "execution_count": 2,
     "metadata": {},
     "output_type": "execute_result"
    }
   ],
   "source": [
    "G1E = pd.read_csv('feature-count/G1E-overlap.bed', sep='\\t', header=None)\n",
    "G1E = G1E.rename(columns={3: 'Type', 6: 'Count'})\n",
    "G1E = G1E.loc[:, ['Type', 'Count']].groupby(by='Type', as_index=False).sum()\n",
    "G1E['Cell'] = 'G1E'\n",
    "G1E"
   ]
  },
  {
   "cell_type": "code",
   "execution_count": 3,
   "metadata": {},
   "outputs": [
    {
     "data": {
      "text/html": [
       "<div>\n",
       "<style scoped>\n",
       "    .dataframe tbody tr th:only-of-type {\n",
       "        vertical-align: middle;\n",
       "    }\n",
       "\n",
       "    .dataframe tbody tr th {\n",
       "        vertical-align: top;\n",
       "    }\n",
       "\n",
       "    .dataframe thead th {\n",
       "        text-align: right;\n",
       "    }\n",
       "</style>\n",
       "<table border=\"1\" class=\"dataframe\">\n",
       "  <thead>\n",
       "    <tr style=\"text-align: right;\">\n",
       "      <th></th>\n",
       "      <th>Type</th>\n",
       "      <th>Count</th>\n",
       "      <th>Cell</th>\n",
       "    </tr>\n",
       "  </thead>\n",
       "  <tbody>\n",
       "    <tr>\n",
       "      <th>0</th>\n",
       "      <td>exon</td>\n",
       "      <td>79</td>\n",
       "      <td>ER4</td>\n",
       "    </tr>\n",
       "    <tr>\n",
       "      <th>1</th>\n",
       "      <td>intron</td>\n",
       "      <td>279</td>\n",
       "      <td>ER4</td>\n",
       "    </tr>\n",
       "    <tr>\n",
       "      <th>2</th>\n",
       "      <td>promoter</td>\n",
       "      <td>57</td>\n",
       "      <td>ER4</td>\n",
       "    </tr>\n",
       "  </tbody>\n",
       "</table>\n",
       "</div>"
      ],
      "text/plain": [
       "       Type  Count Cell\n",
       "0      exon     79  ER4\n",
       "1    intron    279  ER4\n",
       "2  promoter     57  ER4"
      ]
     },
     "execution_count": 3,
     "metadata": {},
     "output_type": "execute_result"
    }
   ],
   "source": [
    "ER4 = pd.read_csv('feature-count/ER4-overlap.bed', sep='\\t', header=None)\n",
    "ER4 = ER4.rename(columns={3: 'Type', 6: 'Count'})\n",
    "ER4 = ER4.loc[:, ['Type', 'Count']].groupby(by='Type', as_index=False).sum()\n",
    "ER4['Cell'] = 'ER4'\n",
    "ER4"
   ]
  },
  {
   "cell_type": "code",
   "execution_count": 4,
   "metadata": {},
   "outputs": [
    {
     "data": {
      "text/html": [
       "<div>\n",
       "<style scoped>\n",
       "    .dataframe tbody tr th:only-of-type {\n",
       "        vertical-align: middle;\n",
       "    }\n",
       "\n",
       "    .dataframe tbody tr th {\n",
       "        vertical-align: top;\n",
       "    }\n",
       "\n",
       "    .dataframe thead th {\n",
       "        text-align: right;\n",
       "    }\n",
       "</style>\n",
       "<table border=\"1\" class=\"dataframe\">\n",
       "  <thead>\n",
       "    <tr style=\"text-align: right;\">\n",
       "      <th></th>\n",
       "      <th>Type</th>\n",
       "      <th>Count</th>\n",
       "      <th>Cell</th>\n",
       "    </tr>\n",
       "  </thead>\n",
       "  <tbody>\n",
       "    <tr>\n",
       "      <th>0</th>\n",
       "      <td>exon</td>\n",
       "      <td>58</td>\n",
       "      <td>G1E</td>\n",
       "    </tr>\n",
       "    <tr>\n",
       "      <th>1</th>\n",
       "      <td>intron</td>\n",
       "      <td>225</td>\n",
       "      <td>G1E</td>\n",
       "    </tr>\n",
       "    <tr>\n",
       "      <th>2</th>\n",
       "      <td>promoter</td>\n",
       "      <td>41</td>\n",
       "      <td>G1E</td>\n",
       "    </tr>\n",
       "    <tr>\n",
       "      <th>0</th>\n",
       "      <td>exon</td>\n",
       "      <td>79</td>\n",
       "      <td>ER4</td>\n",
       "    </tr>\n",
       "    <tr>\n",
       "      <th>1</th>\n",
       "      <td>intron</td>\n",
       "      <td>279</td>\n",
       "      <td>ER4</td>\n",
       "    </tr>\n",
       "    <tr>\n",
       "      <th>2</th>\n",
       "      <td>promoter</td>\n",
       "      <td>57</td>\n",
       "      <td>ER4</td>\n",
       "    </tr>\n",
       "  </tbody>\n",
       "</table>\n",
       "</div>"
      ],
      "text/plain": [
       "       Type  Count Cell\n",
       "0      exon     58  G1E\n",
       "1    intron    225  G1E\n",
       "2  promoter     41  G1E\n",
       "0      exon     79  ER4\n",
       "1    intron    279  ER4\n",
       "2  promoter     57  ER4"
      ]
     },
     "execution_count": 4,
     "metadata": {},
     "output_type": "execute_result"
    }
   ],
   "source": [
    "df = G1E.copy()\n",
    "df = df.append(ER4)\n",
    "df"
   ]
  },
  {
   "cell_type": "markdown",
   "metadata": {},
   "source": [
    "Below cell gets count of lost and gained binding sites for plotting in the second graph."
   ]
  },
  {
   "cell_type": "code",
   "execution_count": 5,
   "metadata": {},
   "outputs": [],
   "source": [
    "lost = pd.read_csv('diff/lost_binding.narrowPeak', sep='\\t', header=None)\n",
    "gained = pd.read_csv('diff/gained_binding.narrowPeak', sep='\\t', header=None)\n",
    "\n",
    "nlost = len(lost)\n",
    "ngained = len(gained)"
   ]
  },
  {
   "cell_type": "markdown",
   "metadata": {},
   "source": [
    "# Plotting"
   ]
  },
  {
   "cell_type": "code",
   "execution_count": 6,
   "metadata": {},
   "outputs": [
    {
     "data": {
      "image/png": "[encoded data removed]",
      "text/plain": [
       "<Figure size 864x432 with 2 Axes>"
      ]
     },
     "metadata": {},
     "output_type": "display_data"
    }
   ],
   "source": [
    "sns.set_theme(style='whitegrid')\n",
    "colors = sns.color_palette('Paired')\n",
    "fig, [ax1, ax2] = plt.subplots(1, 2, figsize=(12,6))\n",
    "\n",
    "sns.barplot(x='Type', y='Count', hue='Cell', data=df, ax=ax1, palette=[colors[8], colors[9]])\n",
    "ax1.set_xlabel('Type of Feature')\n",
    "ax1.set_title('CTCF Binding to Features in G1E-ER4 Cells')\n",
    "\n",
    "sns.barplot(x=['Lost', 'Gained'], y=[nlost, ngained], ax=ax2, color=colors[9])\n",
    "ax2.set_xlabel('CTCF Binding Change')\n",
    "ax2.set_ylabel('Count')\n",
    "ax2.set_title('CTCF Binding Changes During G1E-ER4 Differentiation')\n",
    "\n",
    "plt.savefig('CTCF_peak_plots.jpg')\n",
    "plt.show()"
   ]
  }
 ],
 "metadata": {
  "kernelspec": {
   "display_name": "Python 3",
   "language": "python",
   "name": "python3"
  },
  "language_info": {
   "codemirror_mode": {
    "name": "ipython",
    "version": 3
   },
   "file_extension": ".py",
   "mimetype": "text/x-python",
   "name": "python",
   "nbconvert_exporter": "python",
   "pygments_lexer": "ipython3",
   "version": "3.7.1"
  }
 },
 "nbformat": 4,
 "nbformat_minor": 4
}
